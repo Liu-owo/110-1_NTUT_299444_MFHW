{
 "cells": [
  {
   "cell_type": "code",
   "execution_count": 42,
   "id": "4d5e152d",
   "metadata": {},
   "outputs": [],
   "source": [
    "from datetime import datetime\n",
    "from elasticsearch import Elasticsearch\n",
    "import matplotlib.pyplot as plt\n",
    "import pandas as pd\n",
    "import requests\n",
    "import time"
   ]
  },
  {
   "cell_type": "code",
   "execution_count": 43,
   "id": "b1d8ca51",
   "metadata": {},
   "outputs": [],
   "source": [
    "es_ip = \"http://127.0.0.1:9200\""
   ]
  },
  {
   "cell_type": "code",
   "execution_count": 44,
   "id": "236f88cf",
   "metadata": {},
   "outputs": [],
   "source": [
    "es = Elasticsearch(es_ip)"
   ]
  },
  {
   "cell_type": "code",
   "execution_count": 54,
   "id": "d8bc76a9",
   "metadata": {},
   "outputs": [],
   "source": [
    "res = es.get(index=\"winlogbeat\", id=\"IM3k130BMs_nTerjgcWJ\")#指定_index(資料庫)，指定_Dcouments id(row xx)\n",
    "#print(res['_source'])"
   ]
  },
  {
   "cell_type": "code",
   "execution_count": 46,
   "id": "b1e1808e",
   "metadata": {},
   "outputs": [],
   "source": [
    "query_str = {\"range\":{\"@timestamp\":{\"gte\":\"2021-12-20\", \"lte\":\"2021-12-20\"}}}\n",
    "res = es.search(index=\"winlogbeat\", query=query_str, from_=0, size=1000) #搜尋 index為winlogbeat,查詢條件(body)query為query_str"
   ]
  },
  {
   "cell_type": "code",
   "execution_count": 47,
   "id": "29770a91",
   "metadata": {},
   "outputs": [
    {
     "name": "stdout",
     "output_type": "stream",
     "text": [
      "total : 8028\n"
     ]
    }
   ],
   "source": [
    "total_hits = res[\"hits\"][\"total\"] #計算總筆數\n",
    "print(\"total : \" + str(total_hits)) #印出總比數有多少hits"
   ]
  },
  {
   "cell_type": "code",
   "execution_count": 48,
   "id": "3a3aa5a3",
   "metadata": {},
   "outputs": [
    {
     "name": "stdout",
     "output_type": "stream",
     "text": [
      "{'took': 1, 'timed_out': False, '_shards': {'total': 5, 'successful': 5, 'skipped': 0, 'failed': 0}, 'hits': {'total': 46716, 'max_score': 1.0, 'hits': [{'_index': 'winlogbeat', '_type': 'doc', '_id': 'IM3k130BMs_nTerjgcWJ', '_score': 1.0, '_source': {'@timestamp': '2021-12-20T12:50:14.534Z', 'log': {'level': 'information'}, 'host': {'name': 'DESKTOP-T3V8EOP', 'ip': ['fe80::1911:e65c:d649:9768', '192.168.56.1', 'fe80::24c3:baf3:3d58:f2af', '169.254.242.175', 'fe80::a832:f35:3de:862c', '169.254.134.44', 'fe80::d4a8:14f8:2744:a74a', '192.168.0.83', 'fe80::4d6b:1d3e:cee1:343d', '169.254.52.61'], 'mac': ['0a:00:27:00:00:10', '24:ee:9a:ff:17:da', '26:ee:9a:ff:17:d9', '24:ee:9a:ff:17:d9', '24:ee:9a:ff:17:dd'], 'hostname': 'DESKTOP-T3V8EOP', 'architecture': 'x86_64', 'os': {'version': '10.0', 'family': 'windows', 'name': 'Windows 10 Pro', 'kernel': '10.0.22000.318 (WinBuild.160101.0800)', 'build': '22000.318', 'type': 'windows', 'platform': 'windows'}, 'id': '1f725ed7-b14c-494d-9fc1-4bc3eeb0b29b'}, 'winlog': {'record_id': 492, 'api': 'wineventlog', 'provider_guid': '{5770385f-c22a-43e0-bf4c-06f5698ffbd9}', 'process': {'pid': 53848, 'thread': {'id': 26096}}, 'version': 5, 'channel': 'Microsoft-Windows-Sysmon/Operational', 'event_id': '1', 'provider_name': 'Microsoft-Windows-Sysmon', 'computer_name': 'DESKTOP-T3V8EOP', 'user': {'identifier': 'S-1-5-18', 'domain': 'NT AUTHORITY', 'name': 'SYSTEM', 'type': 'User'}, 'event_data': {'ParentProcessId': '5312', 'OriginalFileName': 'RAPS.exe', 'Image': 'C:\\\\Program Files\\\\Rivet Networks\\\\SmartByte\\\\RAPS.exe', 'Company': 'Rivet Networks LLC', 'LogonId': '0x6ba12a0f', 'Product': 'RivetAPS', 'IntegrityLevel': 'Medium', 'UtcTime': '2021-12-20 12:50:14.532', 'LogonGuid': '{1f725ed7-4242-61bc-0f2a-a16b00000000}', 'ProcessId': '31156', 'RuleName': '-', 'CommandLine': 'RAPS.exe -u', 'User': 'DESKTOP-T3V8EOP\\\\a3789', 'FileVersion': '3.1.995.0', 'Hashes': 'MD5=F70A23758DA94B90A01CC791ACC7F385,SHA256=EEBCC0C6FD9A7BF70BA3028DAEA19C450FCC698169C2E5B03F6BEF9D4BBA1A6F,IMPHASH=935B686812E8D4246E2278AF50AA30FB', 'ParentImage': 'C:\\\\Program Files\\\\Rivet Networks\\\\SmartByte\\\\RAPS.exe', 'ParentCommandLine': '\"RAPS.exe\"', 'ProcessGuid': '{1f725ed7-7c06-61c0-3c1b-908100000000}', 'CurrentDirectory': 'C:\\\\Program Files\\\\Rivet Networks\\\\SmartByte\\\\', 'Description': 'RivetAPS', 'ParentProcessGuid': '{1f725ed7-296e-61ab-8f00-000000000d00}', 'TerminalSessionId': '2'}}, 'event': {'kind': 'event', 'provider': 'Microsoft-Windows-Sysmon', 'created': '2021-12-20T12:50:15.928Z', 'code': '1', 'timezone': '+08:00'}, 'fields': {'endpoint_project': 'df909038f4bcafd88f8d49c7f6ad5ccd', 'endpoint_email': 'a3789468739@gmail.com', 'endpoint_org3': 'T7-1639616151642'}, 'ecs': {'version': '1.9.0'}, 'agent': {'version': '7.13.2', 'hostname': 'DESKTOP-T3V8EOP', 'ephemeral_id': '41f4d791-f3b8-47ed-b193-c7151f023406', 'id': '621af60c-6ab1-4b77-803e-d523c7d8ec04', 'name': 'DESKTOP-T3V8EOP', 'type': 'winlogbeat'}}}, {'_index': 'winlogbeat', '_type': 'doc', '_id': 'K83l130BMs_nTerjfMVt', '_score': 1.0, '_source': {'@timestamp': '2021-12-20T12:51:18.229Z', 'ecs': {'version': '1.9.0'}, 'agent': {'type': 'winlogbeat', 'version': '7.13.2', 'hostname': 'DESKTOP-T3V8EOP', 'ephemeral_id': '41f4d791-f3b8-47ed-b193-c7151f023406', 'id': '621af60c-6ab1-4b77-803e-d523c7d8ec04', 'name': 'DESKTOP-T3V8EOP'}, 'event': {'created': '2021-12-20T12:51:20.151Z', 'code': '1', 'kind': 'event', 'provider': 'Microsoft-Windows-Sysmon', 'timezone': '+08:00'}, 'log': {'level': 'information'}, 'host': {'architecture': 'x86_64', 'os': {'name': 'Windows 10 Pro', 'kernel': '10.0.22000.318 (WinBuild.160101.0800)', 'build': '22000.318', 'type': 'windows', 'platform': 'windows', 'version': '10.0', 'family': 'windows'}, 'id': '1f725ed7-b14c-494d-9fc1-4bc3eeb0b29b', 'ip': ['fe80::1911:e65c:d649:9768', '192.168.56.1', 'fe80::24c3:baf3:3d58:f2af', '169.254.242.175', 'fe80::a832:f35:3de:862c', '169.254.134.44', 'fe80::d4a8:14f8:2744:a74a', '192.168.0.83', 'fe80::4d6b:1d3e:cee1:343d', '169.254.52.61'], 'name': 'DESKTOP-T3V8EOP', 'mac': ['0a:00:27:00:00:10', '24:ee:9a:ff:17:da', '26:ee:9a:ff:17:d9', '24:ee:9a:ff:17:d9', '24:ee:9a:ff:17:dd'], 'hostname': 'DESKTOP-T3V8EOP'}, 'winlog': {'event_id': '1', 'user': {'identifier': 'S-1-5-18', 'domain': 'NT AUTHORITY', 'name': 'SYSTEM', 'type': 'User'}, 'event_data': {'ProcessGuid': '{1f725ed7-7c46-61c0-361b-938100000000}', 'Company': 'Rivet Networks LLC', 'LogonId': '0x6ba12a0f', 'TerminalSessionId': '2', 'IntegrityLevel': 'Medium', 'Hashes': 'MD5=F70A23758DA94B90A01CC791ACC7F385,SHA256=EEBCC0C6FD9A7BF70BA3028DAEA19C450FCC698169C2E5B03F6BEF9D4BBA1A6F,IMPHASH=935B686812E8D4246E2278AF50AA30FB', 'ParentProcessId': '5312', 'ParentCommandLine': '\"RAPS.exe\"', 'UtcTime': '2021-12-20 12:51:18.228', 'FileVersion': '3.1.995.0', 'ProcessId': '13720', 'OriginalFileName': 'RAPS.exe', 'User': 'DESKTOP-T3V8EOP\\\\a3789', 'CommandLine': 'RAPS.exe -u', 'CurrentDirectory': 'C:\\\\Program Files\\\\Rivet Networks\\\\SmartByte\\\\', 'ParentImage': 'C:\\\\Program Files\\\\Rivet Networks\\\\SmartByte\\\\RAPS.exe', 'Description': 'RivetAPS', 'LogonGuid': '{1f725ed7-4242-61bc-0f2a-a16b00000000}', 'ParentProcessGuid': '{1f725ed7-296e-61ab-8f00-000000000d00}', 'RuleName': '-', 'Image': 'C:\\\\Program Files\\\\Rivet Networks\\\\SmartByte\\\\RAPS.exe', 'Product': 'RivetAPS'}, 'version': 5, 'api': 'wineventlog', 'channel': 'Microsoft-Windows-Sysmon/Operational', 'provider_name': 'Microsoft-Windows-Sysmon', 'record_id': 496, 'computer_name': 'DESKTOP-T3V8EOP', 'provider_guid': '{5770385f-c22a-43e0-bf4c-06f5698ffbd9}', 'process': {'thread': {'id': 26096}, 'pid': 53848}}, 'fields': {'endpoint_email': 'a3789468739@gmail.com', 'endpoint_org3': 'T7-1639616151642', 'endpoint_project': 'df909038f4bcafd88f8d49c7f6ad5ccd'}}}, {'_index': 'winlogbeat', '_type': 'doc', '_id': 'Lc3m130BMs_nTerjc8Ux', '_score': 1.0, '_source': {'@timestamp': '2021-12-20T12:52:21.924Z', 'fields': {'endpoint_project': 'df909038f4bcafd88f8d49c7f6ad5ccd', 'endpoint_email': 'a3789468739@gmail.com', 'endpoint_org3': 'T7-1639616151642'}, 'ecs': {'version': '1.9.0'}, 'agent': {'ephemeral_id': '41f4d791-f3b8-47ed-b193-c7151f023406', 'id': '621af60c-6ab1-4b77-803e-d523c7d8ec04', 'name': 'DESKTOP-T3V8EOP', 'type': 'winlogbeat', 'version': '7.13.2', 'hostname': 'DESKTOP-T3V8EOP'}, 'winlog': {'process': {'thread': {'id': 26096}, 'pid': 53848}, 'api': 'wineventlog', 'provider_guid': '{5770385f-c22a-43e0-bf4c-06f5698ffbd9}', 'user': {'name': 'SYSTEM', 'type': 'User', 'identifier': 'S-1-5-18', 'domain': 'NT AUTHORITY'}, 'computer_name': 'DESKTOP-T3V8EOP', 'channel': 'Microsoft-Windows-Sysmon/Operational', 'event_id': '1', 'provider_name': 'Microsoft-Windows-Sysmon', 'record_id': 498, 'version': 5, 'event_data': {'ParentProcessGuid': '{1f725ed7-296e-61ab-8f00-000000000d00}', 'ParentProcessId': '5312', 'IntegrityLevel': 'Medium', 'Image': 'C:\\\\Program Files\\\\Rivet Networks\\\\SmartByte\\\\RAPS.exe', 'CurrentDirectory': 'C:\\\\Program Files\\\\Rivet Networks\\\\SmartByte\\\\', 'ProcessId': '9648', 'Product': 'RivetAPS', 'OriginalFileName': 'RAPS.exe', 'Description': 'RivetAPS', 'Hashes': 'MD5=F70A23758DA94B90A01CC791ACC7F385,SHA256=EEBCC0C6FD9A7BF70BA3028DAEA19C450FCC698169C2E5B03F6BEF9D4BBA1A6F,IMPHASH=935B686812E8D4246E2278AF50AA30FB', 'User': 'DESKTOP-T3V8EOP\\\\a3789', 'LogonId': '0x6ba12a0f', 'UtcTime': '2021-12-20 12:52:21.922', 'ProcessGuid': '{1f725ed7-7c85-61c0-0a38-968100000000}', 'ParentCommandLine': '\"RAPS.exe\"', 'RuleName': '-', 'FileVersion': '3.1.995.0', 'TerminalSessionId': '2', 'LogonGuid': '{1f725ed7-4242-61bc-0f2a-a16b00000000}', 'CommandLine': 'RAPS.exe -u', 'ParentImage': 'C:\\\\Program Files\\\\Rivet Networks\\\\SmartByte\\\\RAPS.exe', 'Company': 'Rivet Networks LLC'}}, 'event': {'created': '2021-12-20T12:52:23.325Z', 'code': '1', 'kind': 'event', 'provider': 'Microsoft-Windows-Sysmon', 'timezone': '+08:00'}, 'log': {'level': 'information'}, 'host': {'mac': ['0a:00:27:00:00:10', '24:ee:9a:ff:17:da', '26:ee:9a:ff:17:d9', '24:ee:9a:ff:17:d9', '24:ee:9a:ff:17:dd'], 'hostname': 'DESKTOP-T3V8EOP', 'architecture': 'x86_64', 'os': {'family': 'windows', 'name': 'Windows 10 Pro', 'kernel': '10.0.22000.318 (WinBuild.160101.0800)', 'build': '22000.318', 'type': 'windows', 'platform': 'windows', 'version': '10.0'}, 'id': '1f725ed7-b14c-494d-9fc1-4bc3eeb0b29b', 'ip': ['fe80::1911:e65c:d649:9768', '192.168.56.1', 'fe80::24c3:baf3:3d58:f2af', '169.254.242.175', 'fe80::a832:f35:3de:862c', '169.254.134.44', 'fe80::d4a8:14f8:2744:a74a', '192.168.0.83', 'fe80::4d6b:1d3e:cee1:343d', '169.254.52.61'], 'name': 'DESKTOP-T3V8EOP'}}}, {'_index': 'winlogbeat', '_type': 'doc', '_id': 'Fs3k130BMs_nTerjBMUK', '_score': 1.0, '_source': {'@timestamp': '2021-12-20T12:49:42.754Z', 'log': {'level': 'information'}, 'host': {'os': {'platform': 'windows', 'version': '10.0', 'family': 'windows', 'name': 'Windows 10 Pro', 'kernel': '10.0.22000.318 (WinBuild.160101.0800)', 'build': '22000.318', 'type': 'windows'}, 'name': 'DESKTOP-T3V8EOP', 'id': '1f725ed7-b14c-494d-9fc1-4bc3eeb0b29b', 'ip': ['fe80::1911:e65c:d649:9768', '192.168.56.1', 'fe80::24c3:baf3:3d58:f2af', '169.254.242.175', 'fe80::a832:f35:3de:862c', '169.254.134.44', 'fe80::d4a8:14f8:2744:a74a', '192.168.0.83', 'fe80::4d6b:1d3e:cee1:343d', '169.254.52.61'], 'mac': ['0a:00:27:00:00:10', '24:ee:9a:ff:17:da', '26:ee:9a:ff:17:d9', '24:ee:9a:ff:17:d9', '24:ee:9a:ff:17:dd'], 'hostname': 'DESKTOP-T3V8EOP', 'architecture': 'x86_64'}, 'winlog': {'provider_name': 'Microsoft-Windows-Sysmon', 'event_data': {'LogonId': '0x6ba12a0f', 'RuleName': '-', 'ParentProcessGuid': '{1f725ed7-296e-61ab-8f00-000000000d00}', 'ParentCommandLine': '\"RAPS.exe\"', 'ProcessGuid': '{1f725ed7-7be6-61c0-e4fc-8d8100000000}', 'CurrentDirectory': 'C:\\\\Program Files\\\\Rivet Networks\\\\SmartByte\\\\', 'Product': 'RivetAPS', 'User': 'DESKTOP-T3V8EOP\\\\a3789', 'TerminalSessionId': '2', 'OriginalFileName': 'RAPS.exe', 'IntegrityLevel': 'Medium', 'CommandLine': 'RAPS.exe -u', 'Image': 'C:\\\\Program Files\\\\Rivet Networks\\\\SmartByte\\\\RAPS.exe', 'Company': 'Rivet Networks LLC', 'Hashes': 'MD5=F70A23758DA94B90A01CC791ACC7F385,SHA256=EEBCC0C6FD9A7BF70BA3028DAEA19C450FCC698169C2E5B03F6BEF9D4BBA1A6F,IMPHASH=935B686812E8D4246E2278AF50AA30FB', 'FileVersion': '3.1.995.0', 'Description': 'RivetAPS', 'UtcTime': '2021-12-20 12:49:42.752', 'LogonGuid': '{1f725ed7-4242-61bc-0f2a-a16b00000000}', 'ParentProcessId': '5312', 'ParentImage': 'C:\\\\Program Files\\\\Rivet Networks\\\\SmartByte\\\\RAPS.exe', 'ProcessId': '48212'}, 'channel': 'Microsoft-Windows-Sysmon/Operational', 'record_id': 489, 'user': {'type': 'User', 'identifier': 'S-1-5-18', 'domain': 'NT AUTHORITY', 'name': 'SYSTEM'}, 'process': {'pid': 53848, 'thread': {'id': 26096}}, 'version': 5, 'computer_name': 'DESKTOP-T3V8EOP', 'provider_guid': '{5770385f-c22a-43e0-bf4c-06f5698ffbd9}', 'api': 'wineventlog', 'event_id': '1'}, 'fields': {'endpoint_org3': 'T7-1639616151642', 'endpoint_project': 'df909038f4bcafd88f8d49c7f6ad5ccd', 'endpoint_email': 'a3789468739@gmail.com'}, 'ecs': {'version': '1.9.0'}, 'agent': {'id': '621af60c-6ab1-4b77-803e-d523c7d8ec04', 'name': 'DESKTOP-T3V8EOP', 'type': 'winlogbeat', 'version': '7.13.2', 'hostname': 'DESKTOP-T3V8EOP', 'ephemeral_id': '41f4d791-f3b8-47ed-b193-c7151f023406'}, 'event': {'kind': 'event', 'provider': 'Microsoft-Windows-Sysmon', 'created': '2021-12-20T12:49:43.810Z', 'code': '1', 'timezone': '+08:00'}}}, {'_index': 'winlogbeat', '_type': 'doc', '_id': 'A83i130BMs_nTerjzcUN', '_score': 1.0, '_source': {'@timestamp': '2021-12-20T12:48:22.465Z', 'host': {'architecture': 'x86_64', 'os': {'platform': 'windows', 'version': '10.0', 'family': 'windows', 'name': 'Windows 10 Home', 'kernel': '10.0.19041.1348 (WinBuild.160101.0800)', 'build': '19042.1348', 'type': 'windows'}, 'name': 'LAPTOP-O5NUGDHI', 'id': 'e36c1727-1de3-433d-994a-ca48c783f851', 'ip': ['fe80::58e1:a727:458c:c8be', '169.254.200.190', 'fe80::4de3:b7e9:d153:1f26', '192.168.56.1', 'fe80::8927:63d8:812f:a641', '169.254.166.65', 'fe80::84a4:848d:cec2:84a', '192.168.137.1', 'fe80::e9ed:ddfa:f064:e416', '192.168.33.13'], 'mac': ['5e:2c:79:6a:7a:52', '0a:00:27:00:00:10', 'd2:c5:d3:c3:02:75', 'f2:c5:d3:c3:02:75', 'd0:c5:d3:c3:02:75'], 'hostname': 'LAPTOP-O5NUGDHI'}, 'winlog': {'computer_name': 'LAPTOP-O5NUGDHI', 'user': {'domain': 'NT AUTHORITY', 'name': 'SYSTEM', 'type': 'User', 'identifier': 'S-1-5-18'}, 'opcode': '資訊', 'api': 'wineventlog', 'version': 5, 'channel': 'Microsoft-Windows-Sysmon/Operational', 'process': {'pid': 25104, 'thread': {'id': 25128}}, 'provider_guid': '{5770385f-c22a-43e0-bf4c-06f5698ffbd9}', 'event_id': '3', 'task': 'Network connection detected (rule: NetworkConnect)', 'event_data': {'SourceHostname': 'LAPTOP-O5NUGDHI.hitronhub.home', 'DestinationIp': '147.92.146.132', 'DestinationPort': '443', 'Image': 'C:\\\\Users\\\\x1tiw\\\\AppData\\\\Local\\\\LINE\\\\bin\\\\current\\\\LINE.exe', 'ProcessGuid': '{e36c1727-7ad5-61c0-1729-010000002d00}', 'Protocol': 'tcp', 'SourcePortName': '-', 'DestinationPortName': 'https', 'RuleName': 'Usermode', 'SourceIp': '192.168.33.13', 'Initiated': 'true', 'SourceIsIpv6': 'false', 'DestinationIsIpv6': 'false', 'ProcessId': '33192', 'SourcePort': '1659', 'User': 'LAPTOP-O5NUGDHI\\\\mu', 'DestinationHostname': '-', 'UtcTime': '2021-12-20 12:36:53.004'}, 'provider_name': 'Microsoft-Windows-Sysmon', 'record_id': 399}, 'event': {'kind': 'event', 'provider': 'Microsoft-Windows-Sysmon', 'action': 'Network connection detected (rule: NetworkConnect)', 'timezone': '+08:00', 'created': '2021-12-20T12:48:23.818Z', 'code': '3'}, 'log': {'level': '資訊'}, 'fields': {'endpoint_email': 't108ab0706@ntut.org.tw', 'endpoint_org3': 'T7-1639616151642', 'endpoint_project': 'df909038f4bcafd88f8d49c7f6ad5ccd'}, 'ecs': {'version': '1.9.0'}, 'agent': {'id': 'bacf81f0-932a-4bf6-8615-09b8fbf307ac', 'name': 'LAPTOP-O5NUGDHI', 'type': 'winlogbeat', 'version': '7.13.2', 'hostname': 'LAPTOP-O5NUGDHI', 'ephemeral_id': '15a65e24-2d8b-4182-ba26-0ab8c6e22ccc'}, 'message': 'Network connection detected:\\nRuleName: Usermode\\nUtcTime: 2021-12-20 12:36:53.004\\nProcessGuid: {e36c1727-7ad5-61c0-1729-010000002d00}\\nProcessId: 33192\\nImage: C:\\\\Users\\\\x1tiw\\\\AppData\\\\Local\\\\LINE\\\\bin\\\\current\\\\LINE.exe\\nUser: LAPTOP-O5NUGDHI\\\\mu\\nProtocol: tcp\\nInitiated: true\\nSourceIsIpv6: false\\nSourceIp: 192.168.33.13\\nSourceHostname: LAPTOP-O5NUGDHI.hitronhub.home\\nSourcePort: 1659\\nSourcePortName: -\\nDestinationIsIpv6: false\\nDestinationIp: 147.92.146.132\\nDestinationHostname: -\\nDestinationPort: 443\\nDestinationPortName: https'}}, {'_index': 'winlogbeat', '_type': 'doc', '_id': 'DM3j130BMs_nTerjD8Xx', '_score': 1.0, '_source': {'@timestamp': '2021-12-20T12:48:40.703Z', 'agent': {'version': '7.13.2', 'hostname': 'LAPTOP-O5NUGDHI', 'ephemeral_id': '15a65e24-2d8b-4182-ba26-0ab8c6e22ccc', 'id': 'bacf81f0-932a-4bf6-8615-09b8fbf307ac', 'name': 'LAPTOP-O5NUGDHI', 'type': 'winlogbeat'}, 'message': 'Process terminated:\\nRuleName: -\\nUtcTime: 2021-12-20 12:48:40.702\\nProcessGuid: {e36c1727-7aea-61c0-d97d-405e00000000}\\nProcessId: 4840\\nImage: C:\\\\Users\\\\x1tiw\\\\AppData\\\\Local\\\\LINE\\\\Data\\\\plugin\\\\LineMediaPlayer\\\\1.2.0.391\\\\LineMediaPlayer.exe', 'host': {'name': 'LAPTOP-O5NUGDHI', 'architecture': 'x86_64', 'os': {'build': '19042.1348', 'type': 'windows', 'platform': 'windows', 'version': '10.0', 'family': 'windows', 'name': 'Windows 10 Home', 'kernel': '10.0.19041.1348 (WinBuild.160101.0800)'}, 'id': 'e36c1727-1de3-433d-994a-ca48c783f851', 'ip': ['fe80::58e1:a727:458c:c8be', '169.254.200.190', 'fe80::4de3:b7e9:d153:1f26', '192.168.56.1', 'fe80::8927:63d8:812f:a641', '169.254.166.65', 'fe80::84a4:848d:cec2:84a', '192.168.137.1', 'fe80::e9ed:ddfa:f064:e416', '192.168.33.13'], 'mac': ['5e:2c:79:6a:7a:52', '0a:00:27:00:00:10', 'd2:c5:d3:c3:02:75', 'f2:c5:d3:c3:02:75', 'd0:c5:d3:c3:02:75'], 'hostname': 'LAPTOP-O5NUGDHI'}, 'winlog': {'api': 'wineventlog', 'event_id': '5', 'record_id': 407, 'provider_name': 'Microsoft-Windows-Sysmon', 'task': 'Process terminated (rule: ProcessTerminate)', 'provider_guid': '{5770385f-c22a-43e0-bf4c-06f5698ffbd9}', 'version': 3, 'computer_name': 'LAPTOP-O5NUGDHI', 'event_data': {'Image': 'C:\\\\Users\\\\x1tiw\\\\AppData\\\\Local\\\\LINE\\\\Data\\\\plugin\\\\LineMediaPlayer\\\\1.2.0.391\\\\LineMediaPlayer.exe', 'RuleName': '-', 'UtcTime': '2021-12-20 12:48:40.702', 'ProcessGuid': '{e36c1727-7aea-61c0-d97d-405e00000000}', 'ProcessId': '4840'}, 'process': {'pid': 25104, 'thread': {'id': 33332}}, 'opcode': '資訊', 'user': {'domain': 'NT AUTHORITY', 'name': 'SYSTEM', 'type': 'User', 'identifier': 'S-1-5-18'}, 'channel': 'Microsoft-Windows-Sysmon/Operational'}, 'event': {'provider': 'Microsoft-Windows-Sysmon', 'action': 'Process terminated (rule: ProcessTerminate)', 'timezone': '+08:00', 'created': '2021-12-20T12:48:40.941Z', 'code': '5', 'kind': 'event'}, 'log': {'level': '資訊'}, 'fields': {'endpoint_org3': 'T7-1639616151642', 'endpoint_project': 'df909038f4bcafd88f8d49c7f6ad5ccd', 'endpoint_email': 't108ab0706@ntut.org.tw'}, 'ecs': {'version': '1.9.0'}}}, {'_index': 'winlogbeat', '_type': 'doc', '_id': 'Vc3-130BMs_nTerjXcaX', '_score': 1.0, '_source': {'@timestamp': '2021-12-20T13:18:29.433Z', 'fields': {'endpoint_email': 'a3789468739@gmail.com', 'endpoint_org3': 'T7-1639616151642', 'endpoint_project': 'df909038f4bcafd88f8d49c7f6ad5ccd'}, 'ecs': {'version': '1.9.0'}, 'agent': {'version': '7.13.2', 'hostname': 'DESKTOP-T3V8EOP', 'ephemeral_id': '41f4d791-f3b8-47ed-b193-c7151f023406', 'id': '621af60c-6ab1-4b77-803e-d523c7d8ec04', 'name': 'DESKTOP-T3V8EOP', 'type': 'winlogbeat'}, 'event': {'provider': 'Microsoft-Windows-Sysmon', 'timezone': '+08:00', 'created': '2021-12-20T13:18:30.659Z', 'code': '1', 'kind': 'event'}, 'log': {'level': 'information'}, 'host': {'id': '1f725ed7-b14c-494d-9fc1-4bc3eeb0b29b', 'name': 'DESKTOP-T3V8EOP', 'ip': ['fe80::1911:e65c:d649:9768', '192.168.56.1', 'fe80::24c3:baf3:3d58:f2af', '169.254.242.175', 'fe80::a832:f35:3de:862c', '169.254.134.44', 'fe80::d4a8:14f8:2744:a74a', '192.168.0.83', 'fe80::4d6b:1d3e:cee1:343d', '169.254.52.61'], 'mac': ['0a:00:27:00:00:10', '24:ee:9a:ff:17:da', '26:ee:9a:ff:17:d9', '24:ee:9a:ff:17:d9', '24:ee:9a:ff:17:dd'], 'hostname': 'DESKTOP-T3V8EOP', 'architecture': 'x86_64', 'os': {'type': 'windows', 'platform': 'windows', 'version': '10.0', 'family': 'windows', 'name': 'Windows 10 Pro', 'kernel': '10.0.22000.318 (WinBuild.160101.0800)', 'build': '22000.318'}}, 'winlog': {'provider_name': 'Microsoft-Windows-Sysmon', 'record_id': 647, 'provider_guid': '{5770385f-c22a-43e0-bf4c-06f5698ffbd9}', 'computer_name': 'DESKTOP-T3V8EOP', 'user': {'identifier': 'S-1-5-18', 'domain': 'NT AUTHORITY', 'name': 'SYSTEM', 'type': 'User'}, 'event_data': {'User': 'DESKTOP-T3V8EOP\\\\a3789', 'Hashes': 'MD5=F70A23758DA94B90A01CC791ACC7F385,SHA256=EEBCC0C6FD9A7BF70BA3028DAEA19C450FCC698169C2E5B03F6BEF9D4BBA1A6F,IMPHASH=935B686812E8D4246E2278AF50AA30FB', 'UtcTime': '2021-12-20 13:18:29.431', 'Image': 'C:\\\\Program Files\\\\Rivet Networks\\\\SmartByte\\\\RAPS.exe', 'FileVersion': '3.1.995.0', 'LogonGuid': '{1f725ed7-4242-61bc-0f2a-a16b00000000}', 'ProcessId': '20912', 'CurrentDirectory': 'C:\\\\Program Files\\\\Rivet Networks\\\\SmartByte\\\\', 'ParentCommandLine': '\"RAPS.exe\"', 'ParentProcessId': '5312', 'Product': 'RivetAPS', 'TerminalSessionId': '2', 'Description': 'RivetAPS', 'OriginalFileName': 'RAPS.exe', 'Company': 'Rivet Networks LLC', 'LogonId': '0x6ba12a0f', 'ProcessGuid': '{1f725ed7-82a5-61c0-cccc-e78100000000}', 'IntegrityLevel': 'Medium', 'ParentImage': 'C:\\\\Program Files\\\\Rivet Networks\\\\SmartByte\\\\RAPS.exe', 'CommandLine': 'RAPS.exe -u', 'ParentProcessGuid': '{1f725ed7-296e-61ab-8f00-000000000d00}', 'RuleName': '-'}, 'channel': 'Microsoft-Windows-Sysmon/Operational', 'event_id': '1', 'process': {'pid': 53848, 'thread': {'id': 26096}}, 'api': 'wineventlog', 'version': 5}}}, {'_index': 'winlogbeat', '_type': 'doc', '_id': 'WM3-130BMs_nTerjY8ab', '_score': 1.0, '_source': {'@timestamp': '2021-12-20T13:18:30.608Z', 'agent': {'name': 'LAPTOP-O5NUGDHI', 'type': 'winlogbeat', 'version': '7.13.2', 'hostname': 'LAPTOP-O5NUGDHI', 'ephemeral_id': '15a65e24-2d8b-4182-ba26-0ab8c6e22ccc', 'id': 'bacf81f0-932a-4bf6-8615-09b8fbf307ac'}, 'message': 'Registry value set:\\nRuleName: Tamper-Winlogon\\nEventType: SetValue\\nUtcTime: 2021-12-20 13:18:30.607\\nProcessGuid: {e36c1727-82a6-61c0-c56e-6f5e00000000}\\nProcessId: 37420\\nImage: C:\\\\WINDOWS\\\\servicing\\\\TrustedInstaller.exe\\nTargetObject: HKLM\\\\System\\\\CurrentControlSet\\\\Control\\\\Winlogon\\\\Notifications\\\\Components\\\\TrustedInstaller\\\\Events\\nDetails: CreateSession', 'host': {'name': 'LAPTOP-O5NUGDHI', 'architecture': 'x86_64', 'os': {'build': '19042.1348', 'type': 'windows', 'platform': 'windows', 'version': '10.0', 'family': 'windows', 'name': 'Windows 10 Home', 'kernel': '10.0.19041.1348 (WinBuild.160101.0800)'}, 'id': 'e36c1727-1de3-433d-994a-ca48c783f851', 'ip': ['fe80::58e1:a727:458c:c8be', '169.254.200.190', 'fe80::4de3:b7e9:d153:1f26', '192.168.56.1', 'fe80::8927:63d8:812f:a641', '169.254.166.65', 'fe80::84a4:848d:cec2:84a', '192.168.137.1', 'fe80::e9ed:ddfa:f064:e416', '192.168.33.13'], 'mac': ['5e:2c:79:6a:7a:52', '0a:00:27:00:00:10', 'd2:c5:d3:c3:02:75', 'f2:c5:d3:c3:02:75', 'd0:c5:d3:c3:02:75'], 'hostname': 'LAPTOP-O5NUGDHI'}, 'winlog': {'event_data': {'ProcessId': '37420', 'Image': 'C:\\\\WINDOWS\\\\servicing\\\\TrustedInstaller.exe', 'TargetObject': 'HKLM\\\\System\\\\CurrentControlSet\\\\Control\\\\Winlogon\\\\Notifications\\\\Components\\\\TrustedInstaller\\\\Events', 'Details': 'CreateSession', 'RuleName': 'Tamper-Winlogon', 'EventType': 'SetValue', 'UtcTime': '2021-12-20 13:18:30.607', 'ProcessGuid': '{e36c1727-82a6-61c0-c56e-6f5e00000000}'}, 'event_id': '13', 'provider_guid': '{5770385f-c22a-43e0-bf4c-06f5698ffbd9}', 'version': 2, 'user': {'domain': 'NT AUTHORITY', 'name': 'SYSTEM', 'type': 'User', 'identifier': 'S-1-5-18'}, 'opcode': '資訊', 'process': {'thread': {'id': 33332}, 'pid': 25104}, 'api': 'wineventlog', 'computer_name': 'LAPTOP-O5NUGDHI', 'record_id': 499, 'channel': 'Microsoft-Windows-Sysmon/Operational', 'task': 'Registry value set (rule: RegistryEvent)', 'provider_name': 'Microsoft-Windows-Sysmon'}, 'event': {'provider': 'Microsoft-Windows-Sysmon', 'action': 'Registry value set (rule: RegistryEvent)', 'timezone': '+08:00', 'created': '2021-12-20T13:18:31.795Z', 'code': '13', 'kind': 'event'}, 'log': {'level': '資訊'}, 'fields': {'endpoint_project': 'df909038f4bcafd88f8d49c7f6ad5ccd', 'endpoint_email': 't108ab0706@ntut.org.tw', 'endpoint_org3': 'T7-1639616151642'}, 'ecs': {'version': '1.9.0'}}}, {'_index': 'winlogbeat', '_type': 'doc', '_id': 'Sc39130BMs_nTerjzsbE', '_score': 1.0, '_source': {'@timestamp': '2021-12-20T13:17:52.570Z', 'agent': {'hostname': 'LAPTOP-O5NUGDHI', 'ephemeral_id': '15a65e24-2d8b-4182-ba26-0ab8c6e22ccc', 'id': 'bacf81f0-932a-4bf6-8615-09b8fbf307ac', 'name': 'LAPTOP-O5NUGDHI', 'type': 'winlogbeat', 'version': '7.13.2'}, 'ecs': {'version': '1.9.0'}, 'winlog': {'provider_name': 'Microsoft-Windows-Sysmon', 'event_data': {'Image': 'C:\\\\Users\\\\x1tiw\\\\AppData\\\\Local\\\\Microsoft\\\\OneDrive\\\\21.230.1107.0004\\\\FileCoAuth.exe', 'Product': 'Microsoft OneDrive', 'UtcTime': '2021-12-20 13:17:52.567', 'ProcessGuid': '{e36c1727-8280-61c0-80e0-6d5e00000000}', 'Description': 'Microsoft OneDriveFile Co-Authoring Executable', 'RuleName': '-', 'OriginalFileName': 'FileCoAuth.exe', 'ProcessId': '26732', 'ParentImage': 'C:\\\\Windows\\\\System32\\\\svchost.exe', 'CommandLine': '\"C:\\\\Users\\\\x1tiw\\\\AppData\\\\Local\\\\Microsoft\\\\OneDrive\\\\21.230.1107.0004\\\\FileCoAuth.exe\" -Embedding', 'LogonId': '0x5dcfe95a', 'TerminalSessionId': '65', 'IntegrityLevel': 'Medium', 'Hashes': 'MD5=1AD7994CF46C3F947FDB2C84A3D93E18,SHA256=65FA9EA7161AECA034301CAD4A237A939F95561CC41EF5E2388645FF9CCFB65C,IMPHASH=BB30F184A43CDDB0C69B81620C560776', 'ParentProcessGuid': '{e36c1727-c51d-6193-0c00-000000002d00}', 'Company': 'Microsoft Corporation', 'LogonGuid': '{e36c1727-6cfb-61c0-5ae9-cf5d00000000}', 'ParentCommandLine': 'C:\\\\WINDOWS\\\\system32\\\\svchost.exe -k DcomLaunch -p', 'FileVersion': '21.230.1107.0004', 'User': 'LAPTOP-O5NUGDHI\\\\mu', 'CurrentDirectory': 'C:\\\\WINDOWS\\\\system32\\\\', 'ParentProcessId': '584'}, 'task': 'Process Create (rule: ProcessCreate)', 'opcode': '資訊', 'event_id': '1', 'computer_name': 'LAPTOP-O5NUGDHI', 'user': {'identifier': 'S-1-5-18', 'domain': 'NT AUTHORITY', 'name': 'SYSTEM', 'type': 'User'}, 'provider_guid': '{5770385f-c22a-43e0-bf4c-06f5698ffbd9}', 'process': {'pid': 25104, 'thread': {'id': 33332}}, 'record_id': 489, 'channel': 'Microsoft-Windows-Sysmon/Operational', 'api': 'wineventlog', 'version': 5}, 'event': {'action': 'Process Create (rule: ProcessCreate)', 'created': '2021-12-20T13:17:53.658Z', 'code': '1', 'kind': 'event', 'provider': 'Microsoft-Windows-Sysmon', 'timezone': '+08:00'}, 'log': {'level': '資訊'}, 'message': 'Process Create:\\nRuleName: -\\nUtcTime: 2021-12-20 13:17:52.567\\nProcessGuid: {e36c1727-8280-61c0-80e0-6d5e00000000}\\nProcessId: 26732\\nImage: C:\\\\Users\\\\x1tiw\\\\AppData\\\\Local\\\\Microsoft\\\\OneDrive\\\\21.230.1107.0004\\\\FileCoAuth.exe\\nFileVersion: 21.230.1107.0004\\nDescription: Microsoft OneDriveFile Co-Authoring Executable\\nProduct: Microsoft OneDrive\\nCompany: Microsoft Corporation\\nOriginalFileName: FileCoAuth.exe\\nCommandLine: \"C:\\\\Users\\\\x1tiw\\\\AppData\\\\Local\\\\Microsoft\\\\OneDrive\\\\21.230.1107.0004\\\\FileCoAuth.exe\" -Embedding\\nCurrentDirectory: C:\\\\WINDOWS\\\\system32\\\\\\nUser: LAPTOP-O5NUGDHI\\\\mu\\nLogonGuid: {e36c1727-6cfb-61c0-5ae9-cf5d00000000}\\nLogonId: 0x5DCFE95A\\nTerminalSessionId: 65\\nIntegrityLevel: Medium\\nHashes: MD5=1AD7994CF46C3F947FDB2C84A3D93E18,SHA256=65FA9EA7161AECA034301CAD4A237A939F95561CC41EF5E2388645FF9CCFB65C,IMPHASH=BB30F184A43CDDB0C69B81620C560776\\nParentProcessGuid: {e36c1727-c51d-6193-0c00-000000002d00}\\nParentProcessId: 584\\nParentImage: C:\\\\Windows\\\\System32\\\\svchost.exe\\nParentCommandLine: C:\\\\WINDOWS\\\\system32\\\\svchost.exe -k DcomLaunch -p', 'host': {'architecture': 'x86_64', 'os': {'build': '19042.1348', 'type': 'windows', 'platform': 'windows', 'version': '10.0', 'family': 'windows', 'name': 'Windows 10 Home', 'kernel': '10.0.19041.1348 (WinBuild.160101.0800)'}, 'id': 'e36c1727-1de3-433d-994a-ca48c783f851', 'ip': ['fe80::58e1:a727:458c:c8be', '169.254.200.190', 'fe80::4de3:b7e9:d153:1f26', '192.168.56.1', 'fe80::8927:63d8:812f:a641', '169.254.166.65', 'fe80::84a4:848d:cec2:84a', '192.168.137.1', 'fe80::e9ed:ddfa:f064:e416', '192.168.33.13'], 'name': 'LAPTOP-O5NUGDHI', 'mac': ['5e:2c:79:6a:7a:52', '0a:00:27:00:00:10', 'd2:c5:d3:c3:02:75', 'f2:c5:d3:c3:02:75', 'd0:c5:d3:c3:02:75'], 'hostname': 'LAPTOP-O5NUGDHI'}, 'fields': {'endpoint_project': 'df909038f4bcafd88f8d49c7f6ad5ccd', 'endpoint_email': 't108ab0706@ntut.org.tw', 'endpoint_org3': 'T7-1639616151642'}}}, {'_index': 'winlogbeat', '_type': 'doc', '_id': 'Ps39130BMs_nTerjXsa4', '_score': 1.0, '_source': {'@timestamp': '2021-12-20T13:17:23.557Z', 'winlog': {'computer_name': 'DESKTOP-T3V8EOP', 'process': {'thread': {'id': 34612}, 'pid': 53848}, 'channel': 'Microsoft-Windows-Sysmon/Operational', 'event_id': '22', 'provider_name': 'Microsoft-Windows-Sysmon', 'provider_guid': '{5770385f-c22a-43e0-bf4c-06f5698ffbd9}', 'user': {'name': 'SYSTEM', 'type': 'User', 'identifier': 'S-1-5-18', 'domain': 'NT AUTHORITY'}, 'api': 'wineventlog', 'record_id': 634, 'event_data': {'UtcTime': '2021-12-20 13:17:22.033', 'ProcessGuid': '{1f725ed7-4264-61bc-2db1-000000000d00}', 'ProcessId': '27400', 'QueryName': 'ocsp.quovadisglobal.com', 'QueryStatus': '0', 'QueryResults': '::ffff:52.214.169.148;', 'Image': 'C:\\\\Program Files (x86)\\\\Microsoft\\\\Edge\\\\Application\\\\msedge.exe', 'RuleName': '-'}, 'version': 5}, 'fields': {'endpoint_org3': 'T7-1639616151642', 'endpoint_project': 'df909038f4bcafd88f8d49c7f6ad5ccd', 'endpoint_email': 'a3789468739@gmail.com'}, 'ecs': {'version': '1.9.0'}, 'agent': {'ephemeral_id': '41f4d791-f3b8-47ed-b193-c7151f023406', 'id': '621af60c-6ab1-4b77-803e-d523c7d8ec04', 'name': 'DESKTOP-T3V8EOP', 'type': 'winlogbeat', 'version': '7.13.2', 'hostname': 'DESKTOP-T3V8EOP'}, 'event': {'code': '22', 'kind': 'event', 'timezone': '+08:00', 'provider': 'Microsoft-Windows-Sysmon', 'created': '2021-12-20T13:17:25.413Z'}, 'log': {'level': 'information'}, 'host': {'hostname': 'DESKTOP-T3V8EOP', 'architecture': 'x86_64', 'os': {'build': '22000.318', 'type': 'windows', 'platform': 'windows', 'version': '10.0', 'family': 'windows', 'name': 'Windows 10 Pro', 'kernel': '10.0.22000.318 (WinBuild.160101.0800)'}, 'name': 'DESKTOP-T3V8EOP', 'id': '1f725ed7-b14c-494d-9fc1-4bc3eeb0b29b', 'ip': ['fe80::1911:e65c:d649:9768', '192.168.56.1', 'fe80::24c3:baf3:3d58:f2af', '169.254.242.175', 'fe80::a832:f35:3de:862c', '169.254.134.44', 'fe80::d4a8:14f8:2744:a74a', '192.168.0.83', 'fe80::4d6b:1d3e:cee1:343d', '169.254.52.61'], 'mac': ['0a:00:27:00:00:10', '24:ee:9a:ff:17:da', '26:ee:9a:ff:17:d9', '24:ee:9a:ff:17:d9', '24:ee:9a:ff:17:dd']}}}]}}\n"
     ]
    }
   ],
   "source": [
    "#檢視所有資訊(res['hits']['hits']裡)\n",
    "res = es.search()\n",
    "print(res)"
   ]
  },
  {
   "cell_type": "code",
   "execution_count": 49,
   "id": "0020a2c9",
   "metadata": {},
   "outputs": [
    {
     "name": "stdout",
     "output_type": "stream",
     "text": [
      "[{'key_as_string': '12-17', 'key': 1639699200000, 'doc_count': 54}, {'key_as_string': '12-18', 'key': 1639785600000, 'doc_count': 0}, {'key_as_string': '12-19', 'key': 1639872000000, 'doc_count': 1243}, {'key_as_string': '12-20', 'key': 1639958400000, 'doc_count': 8028}, {'key_as_string': '12-21', 'key': 1640044800000, 'doc_count': 8903}, {'key_as_string': '12-22', 'key': 1640131200000, 'doc_count': 5187}, {'key_as_string': '12-23', 'key': 1640217600000, 'doc_count': 484}, {'key_as_string': '12-24', 'key': 1640304000000, 'doc_count': 3537}, {'key_as_string': '12-25', 'key': 1640390400000, 'doc_count': 4442}, {'key_as_string': '12-26', 'key': 1640476800000, 'doc_count': 4352}, {'key_as_string': '12-27', 'key': 1640563200000, 'doc_count': 5898}, {'key_as_string': '12-28', 'key': 1640649600000, 'doc_count': 3856}, {'key_as_string': '12-29', 'key': 1640736000000, 'doc_count': 732}]\n"
     ]
    },
    {
     "name": "stderr",
     "output_type": "stream",
     "text": [
      "C:\\Users\\x1tiw\\AppData\\Local\\Temp/ipykernel_23492/3564550829.py:2: DeprecationWarning: The 'body' parameter is deprecated for the 'search' API and will be removed in a future version. Instead use API parameters directly. See https://github.com/elastic/elasticsearch-py/issues/1698 for more information\n",
      "  res = es.search(index=\"winlogbeat\", body=query_str)\n"
     ]
    }
   ],
   "source": [
    "query_str = {\"size\": 0,\"aggs\": {\"result\": {\"date_histogram\": {\"field\": \"@timestamp\",\"interval\": \"1d\",\"format\": \"MM-dd\"}}}}\n",
    "res = es.search(index=\"winlogbeat\", body=query_str)\n",
    "result = res[\"aggregations\"][\"result\"][\"buckets\"]\n",
    "print(result)"
   ]
  },
  {
   "cell_type": "code",
   "execution_count": 55,
   "id": "a72cc11d",
   "metadata": {},
   "outputs": [
    {
     "data": {
      "text/html": [
       "<div>\n",
       "<style scoped>\n",
       "    .dataframe tbody tr th:only-of-type {\n",
       "        vertical-align: middle;\n",
       "    }\n",
       "\n",
       "    .dataframe tbody tr th {\n",
       "        vertical-align: top;\n",
       "    }\n",
       "\n",
       "    .dataframe thead th {\n",
       "        text-align: right;\n",
       "    }\n",
       "</style>\n",
       "<table border=\"1\" class=\"dataframe\">\n",
       "  <thead>\n",
       "    <tr style=\"text-align: right;\">\n",
       "      <th></th>\n",
       "      <th>key_as_string</th>\n",
       "      <th>doc_count</th>\n",
       "    </tr>\n",
       "  </thead>\n",
       "  <tbody>\n",
       "    <tr>\n",
       "      <th>0</th>\n",
       "      <td>12-17</td>\n",
       "      <td>54</td>\n",
       "    </tr>\n",
       "    <tr>\n",
       "      <th>1</th>\n",
       "      <td>12-18</td>\n",
       "      <td>0</td>\n",
       "    </tr>\n",
       "    <tr>\n",
       "      <th>2</th>\n",
       "      <td>12-19</td>\n",
       "      <td>1243</td>\n",
       "    </tr>\n",
       "    <tr>\n",
       "      <th>3</th>\n",
       "      <td>12-20</td>\n",
       "      <td>8028</td>\n",
       "    </tr>\n",
       "    <tr>\n",
       "      <th>4</th>\n",
       "      <td>12-21</td>\n",
       "      <td>8903</td>\n",
       "    </tr>\n",
       "  </tbody>\n",
       "</table>\n",
       "</div>"
      ],
      "text/plain": [
       "  key_as_string  doc_count\n",
       "0         12-17         54\n",
       "1         12-18          0\n",
       "2         12-19       1243\n",
       "3         12-20       8028\n",
       "4         12-21       8903"
      ]
     },
     "execution_count": 55,
     "metadata": {},
     "output_type": "execute_result"
    }
   ],
   "source": [
    "event_pd = pd.DataFrame(result, columns=[\"key_as_string\", \"doc_count\"])\n",
    "#print(event_pd)\n",
    "\n",
    "event_dd_pd = {'key_as_string':['12-17', '12-18', '12-19', '12-20', '12-21', '12-22', '12-23', '12-24', '12-25', '12-26', '12-27', '12-28', '12-29'],\n",
    "        'doc_count':[54, 0, 1243, 8028, 8903, 5187, 484, 3537, 4442, 4352, 5898, 3856, 732]} #資料欄列內容\n",
    "event_df = pd.DataFrame(event_dd_pd) #顯示表格\n",
    "event_df.head() #顯示表格"
   ]
  },
  {
   "cell_type": "code",
   "execution_count": 51,
   "id": "8f149962",
   "metadata": {},
   "outputs": [
    {
     "data": {
      "text/plain": [
       "([0, 1, 2, 3, 4, 5, 6, 7, 8, 9, 10, 11, 12],\n",
       " [Text(0, 0, ''),\n",
       "  Text(0, 0, ''),\n",
       "  Text(0, 0, ''),\n",
       "  Text(0, 0, ''),\n",
       "  Text(0, 0, ''),\n",
       "  Text(0, 0, ''),\n",
       "  Text(0, 0, ''),\n",
       "  Text(0, 0, ''),\n",
       "  Text(0, 0, ''),\n",
       "  Text(0, 0, ''),\n",
       "  Text(0, 0, ''),\n",
       "  Text(0, 0, ''),\n",
       "  Text(0, 0, '')])"
      ]
     },
     "execution_count": 51,
     "metadata": {},
     "output_type": "execute_result"
    },
    {
     "data": {
      "image/png": "[encoded data removed]",
      "text/plain": [
       "<Figure size 432x288 with 1 Axes>"
      ]
     },
     "metadata": {
      "needs_background": "light"
     },
     "output_type": "display_data"
    }
   ],
   "source": [
    "#畫第一條線，plt.plot(x, y, c)分別為x軸資料、y軸資料、線顏色 = 紅色\n",
    "plt.plot(event_df['key_as_string'], event_df['doc_count'],c = \"r\")  \n",
    "plt.legend(labels=[\"doc_count\"], loc = 'best')            # 設定圖例，參數為標籤, 位置\n",
    "plt.xlabel(\"MM-dd\", fontweight = \"bold\")                # 設定x軸標題及粗體\n",
    "plt.ylabel(\"doc_count\", fontweight = \"bold\")    # 設定y軸標題及粗體\n",
    "# 設定標題、文字大小、粗體及位置\n",
    "plt.title(\"Event Logs\", fontsize = 15, fontweight = \"bold\", y = 1.1)   \n",
    "plt.xticks(rotation=45)   # 將x軸數字旋轉45度"
   ]
  },
  {
   "cell_type": "code",
   "execution_count": 52,
   "id": "6c14e0f9",
   "metadata": {},
   "outputs": [
    {
     "name": "stdout",
     "output_type": "stream",
     "text": [
      "[{'key': '8640', 'doc_count': 1158}, {'key': '12564', 'doc_count': 965}, {'key': '23260', 'doc_count': 669}, {'key': '12692', 'doc_count': 641}, {'key': '19732', 'doc_count': 554}, {'key': '19608', 'doc_count': 483}, {'key': '30516', 'doc_count': 450}, {'key': '34100', 'doc_count': 422}, {'key': '15704', 'doc_count': 418}, {'key': '14948', 'doc_count': 389}]\n"
     ]
    },
    {
     "name": "stderr",
     "output_type": "stream",
     "text": [
      "C:\\Users\\x1tiw\\AppData\\Local\\Temp/ipykernel_23492/4089627785.py:2: DeprecationWarning: The 'body' parameter is deprecated for the 'search' API and will be removed in a future version. Instead use API parameters directly. See https://github.com/elastic/elasticsearch-py/issues/1698 for more information\n",
      "  res = es.search(index=\"winlogbeat\", body=query_str)\n"
     ]
    }
   ],
   "source": [
    "query_str = {\"size\": 0,\"aggregations\": {\"result\": { \"terms\": {\"field\": \"winlog.event_data.ProcessId.keyword\",\"order\": [{\"_count\": \"desc\"}]}}}}\n",
    "res = es.search(index=\"winlogbeat\", body=query_str)\n",
    "result = res[\"aggregations\"][\"result\"][\"buckets\"]\n",
    "print(result)"
   ]
  },
  {
   "cell_type": "code",
   "execution_count": 56,
   "id": "53d3e02c",
   "metadata": {},
   "outputs": [
    {
     "data": {
      "text/plain": [
       "Text(0.5, 1.0, 'Event Logs')"
      ]
     },
     "execution_count": 56,
     "metadata": {},
     "output_type": "execute_result"
    },
    {
     "data": {
      "image/png": "[encoded data removed]",
      "text/plain": [
       "<Figure size 432x288 with 1 Axes>"
      ]
     },
     "metadata": {
      "needs_background": "light"
     },
     "output_type": "display_data"
    }
   ],
   "source": [
    "event_pd = pd.DataFrame(result, columns=[\"key\", \"doc_count\"])\n",
    "#print(event_pd)\n",
    "event_pd.plot(x=\"key\", y=\"doc_count\", kind=\"bar\");\n",
    "plt.xlabel('ProcessId')\n",
    "plt.ylabel('Log Count')\n",
    "plt.title('Event Logs')"
   ]
  },
  {
   "cell_type": "code",
   "execution_count": null,
   "id": "4e90b98e",
   "metadata": {},
   "outputs": [],
   "source": []
  },
  {
   "cell_type": "code",
   "execution_count": null,
   "id": "68f04579",
   "metadata": {},
   "outputs": [],
   "source": []
  },
  {
   "cell_type": "code",
   "execution_count": null,
   "id": "6d56fd24",
   "metadata": {},
   "outputs": [],
   "source": []
  },
  {
   "cell_type": "code",
   "execution_count": null,
   "id": "ca09d199",
   "metadata": {},
   "outputs": [],
   "source": []
  },
  {
   "cell_type": "code",
   "execution_count": null,
   "id": "bc40f060",
   "metadata": {},
   "outputs": [],
   "source": []
  },
  {
   "cell_type": "code",
   "execution_count": null,
   "id": "9d77ee67",
   "metadata": {},
   "outputs": [],
   "source": []
  },
  {
   "cell_type": "code",
   "execution_count": null,
   "id": "d68f3156",
   "metadata": {},
   "outputs": [],
   "source": []
  }
 ],
 "metadata": {
  "kernelspec": {
   "display_name": "Python 3 (ipykernel)",
   "language": "python",
   "name": "python3"
  },
  "language_info": {
   "codemirror_mode": {
    "name": "ipython",
    "version": 3
   },
   "file_extension": ".py",
   "mimetype": "text/x-python",
   "name": "python",
   "nbconvert_exporter": "python",
   "pygments_lexer": "ipython3",
   "version": "3.9.7"
  }
 },
 "nbformat": 4,
 "nbformat_minor": 5
}
